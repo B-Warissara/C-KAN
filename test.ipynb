{
 "cells": [
  {
   "cell_type": "code",
   "execution_count": 1,
   "metadata": {},
   "outputs": [],
   "source": [
    "import psycopg2  # pip install pyscopg2\n",
    "\n",
    "con=psycopg2.connect(\n",
    "      host= 'localhost' ,\n",
    "      port= '5432' ,\n",
    "      user= 'postgres' ,\n",
    "      password= 'lungmaker'\n",
    ")\n",
    "\n",
    "cur = con.cursor()"
   ]
  },
  {
   "cell_type": "code",
   "execution_count": 2,
   "metadata": {},
   "outputs": [
    {
     "name": "stdout",
     "output_type": "stream",
     "text": [
      "[('03d5bcda-fd08-4d91-a099-37766dea0bf4', 'dataset-trafficstatbyplaza', 'คมนาคมและโลจิสติกส์', None, 'https://data.go.th/dataset/trafficstatbyplaza', 'สรุปข้อมูลปริมาณจราจรจำแนกตามด่านเก็บค่าผ่านทาง ทางพิเศษ และ ปีงบประมาณ', None, None, 'วัชระ อินทรสูตร', 'vachara@exat.co.th', 'active', 'Creative Commons Attributions', 'dataset', 'ab0eab12-e0d9-49cf-a5ba-fb3c71bc6000', False, datetime.datetime(2023, 2, 10, 4, 43, 9, 692748), 'b8f27ddf-8bec-4dd1-90e1-da95e5961386', datetime.datetime(2023, 2, 10, 4, 41, 34, 89750)), ('4c4a11bd-af82-45bb-8cd0-e6e4922502ff', 'dataset-04_0302', 'กฎหมาย ศาล และอาชญากรรม', None, 'https://data.go.th/dataset/04_0302', 'สถิติเงินค่าปรับ จำแนกตามสินค้า (รายเดือน)', None, None, 'ศูนย์เทคโนโลยีสารสนเทศ ส่วนพัฒนาระบบงาน', 'catalog@excise.go.th', 'active', 'Open Data Common', 'dataset', 'ab0eab12-e0d9-49cf-a5ba-fb3c71bc6000', False, datetime.datetime(2023, 2, 10, 6, 26, 41, 374622), 'b8f27ddf-8bec-4dd1-90e1-da95e5961386', datetime.datetime(2023, 2, 10, 6, 24, 48, 790970)), ('a8e5c69b-38a5-445a-8a9a-316d4b3a1a37', 'dof-datahamonize-fsw', 'เกษตรกรรม', None, 'https://data.go.th/dataset/dof-datahamonize-fsw', 'ข้อมูลพิกัดสินค้าประมงในระบบ Fisheries Single Window กรมประมง', None, None, 'กลุ่มควบคุมการนำเข้าส่งออกสัตว์น้ำ กองตรวจสอบเรือประมง สินค้าสัตว์น้ำ เเละปัจจัยการผลิต (กรป.)', 'fsw1900@hotmail.com', 'active', 'Creative Commons Attributions', 'dataset', 'ab0eab12-e0d9-49cf-a5ba-fb3c71bc6000', False, datetime.datetime(2023, 2, 10, 4, 18, 0, 404418), 'b8f27ddf-8bec-4dd1-90e1-da95e5961386', datetime.datetime(2023, 2, 10, 3, 31, 26, 966758)), ('32684696-fb1d-476d-a03f-e0f7304e858f', 'dataset-museum', 'ศาสนา ศิลปะ และวัฒนธรรม', None, 'https://data.go.th/dataset/museum', 'ฐานข้อมูลพิพิธภัณฑ์ในประเทศไทย เป็นส่วนหนึ่งในโครงการรวิจัยและพัฒนาพิพิธภัณฑ์ท้องถิ่น ของศูนย์มานุษยวิทยาสิรินธร ', None, None, 'ผู้ดูแลระบบ', 'webmaster@sac.or.th', 'active', 'Creative Commons Attributions', 'dataset', 'ab0eab12-e0d9-49cf-a5ba-fb3c71bc6000', False, datetime.datetime(2023, 2, 10, 4, 57, 29, 750850), 'b8f27ddf-8bec-4dd1-90e1-da95e5961386', datetime.datetime(2023, 2, 10, 4, 55, 50, 425301)), ('a64d5494-6aec-41de-a179-ca11c14a3a77', 'people-who-travel', 'People who travel', None, '', 'อิอิ', None, None, 'Palm', 'crazyintrend@gmail.com', 'active', 'License not specified', 'dataset', 'ab0eab12-e0d9-49cf-a5ba-fb3c71bc6000', False, datetime.datetime(2023, 2, 9, 17, 0, 16, 205047), 'b8f27ddf-8bec-4dd1-90e1-da95e5961386', datetime.datetime(2023, 1, 31, 3, 7, 9, 174911))]\n"
     ]
    }
   ],
   "source": [
    " # select command\n",
    "cur.execute('select * from package limit 5;')\n",
    "print(cur.fetchall())"
   ]
  },
  {
   "cell_type": "code",
   "execution_count": 22,
   "metadata": {},
   "outputs": [
    {
     "name": "stdout",
     "output_type": "stream",
     "text": [
      "2023-04-01\n",
      "604800.0\n"
     ]
    }
   ],
   "source": [
    "import datetime\n",
    "\n",
    "tday = datetime.date.today()\n",
    "\n",
    "tdelta = datetime.timedelta(days=30)\n",
    "\n",
    "print(tday + tdelta)\n",
    "\n",
    "bday = datetime.date(2023, 3, 9)\n",
    "\n",
    "till_bday = bday - tday\n",
    "print(till_bday.total_seconds())"
   ]
  },
  {
   "cell_type": "code",
   "execution_count": 21,
   "metadata": {},
   "outputs": [
    {
     "name": "stdout",
     "output_type": "stream",
     "text": [
      "2023-03-02 13:48:23.243537\n",
      "2023-03-02 13:48:23.247574\n",
      "2023-03-02 06:48:23.247574\n"
     ]
    }
   ],
   "source": [
    "dt_today = datetime.datetime.today()\n",
    "dt_now = datetime.datetime.now()\n",
    "dt_utcnow = datetime.datetime.utcnow()\n",
    "\n",
    "print(dt_today)\n",
    "print(dt_now)\n",
    "print(dt_utcnow)\n"
   ]
  },
  {
   "cell_type": "code",
   "execution_count": 25,
   "metadata": {},
   "outputs": [
    {
     "ename": "NameError",
     "evalue": "name 'pytz' is not defined",
     "output_type": "error",
     "traceback": [
      "\u001b[1;31m---------------------------------------------------------------------------\u001b[0m",
      "\u001b[1;31mNameError\u001b[0m                                 Traceback (most recent call last)",
      "Cell \u001b[1;32mIn[25], line 1\u001b[0m\n\u001b[1;32m----> 1\u001b[0m dt\u001b[39m=\u001b[39m datetime\u001b[39m.\u001b[39mdatetime(\u001b[39m2016\u001b[39m, \u001b[39m7\u001b[39m, \u001b[39m27\u001b[39m, \u001b[39m12\u001b[39m, \u001b[39m30\u001b[39m, \u001b[39m45\u001b[39m, tzinfo\u001b[39m=\u001b[39mpytz\u001b[39m.\u001b[39mUTC)\n\u001b[0;32m      2\u001b[0m \u001b[39mprint\u001b[39m(dt)\n",
      "\u001b[1;31mNameError\u001b[0m: name 'pytz' is not defined"
     ]
    }
   ],
   "source": [
    "dt= datetime.datetime(2016, 7, 27, 12, 30, 45, tzinfo=pytz.UTC)\n",
    "print(dt)"
   ]
  },
  {
   "cell_type": "code",
   "execution_count": null,
   "metadata": {},
   "outputs": [],
   "source": []
  }
 ],
 "metadata": {
  "kernelspec": {
   "display_name": "Python 3",
   "language": "python",
   "name": "python3"
  },
  "language_info": {
   "codemirror_mode": {
    "name": "ipython",
    "version": 3
   },
   "file_extension": ".py",
   "mimetype": "text/x-python",
   "name": "python",
   "nbconvert_exporter": "python",
   "pygments_lexer": "ipython3",
   "version": "3.11.1"
  },
  "orig_nbformat": 4,
  "vscode": {
   "interpreter": {
    "hash": "ad7269621bf5ece74f6303b0c34d8eb88283065cba192cedb98a490b4a859211"
   }
  }
 },
 "nbformat": 4,
 "nbformat_minor": 2
}
